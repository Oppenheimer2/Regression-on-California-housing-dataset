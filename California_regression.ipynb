{
  "nbformat": 4,
  "nbformat_minor": 0,
  "metadata": {
    "colab": {
      "provenance": []
    },
    "kernelspec": {
      "name": "python3",
      "display_name": "Python 3"
    },
    "language_info": {
      "name": "python"
    }
  },
  "cells": [
    {
      "cell_type": "markdown",
      "source": [
        "#California housing dataset#\n",
        "Regression on california houseing dataset"
      ],
      "metadata": {
        "id": "wpH-1f9AE32a"
      }
    },
    {
      "cell_type": "markdown",
      "source": [
        "#Loading the dataset#"
      ],
      "metadata": {
        "id": "XseTbDqVFHZm"
      }
    },
    {
      "cell_type": "code",
      "execution_count": 1,
      "metadata": {
        "id": "XVNxPoyCEx86"
      },
      "outputs": [],
      "source": [
        "from sklearn.datasets import fetch_california_housing"
      ]
    },
    {
      "cell_type": "markdown",
      "source": [
        "#Imports"
      ],
      "metadata": {
        "id": "MZyMLFXjHTom"
      }
    },
    {
      "cell_type": "code",
      "source": [
        "import numpy as np\n",
        "import pandas as pd\n",
        "import matplotlib.pyplot as plt\n",
        "\n",
        "from sklearn.linear_model import LinearRegression\n",
        "from sklearn.linear_model import Lasso\n",
        "from sklearn.linear_model import LassoCV\n",
        "from sklearn.linear_model import RidgeCV\n",
        "from sklearn.linear_model import Ridge\n",
        "from sklearn.linear_model import SGDRegressor\n",
        "from sklearn.dummy import DummyRegressor\n",
        "from sklearn.metrics import mean_squared_error\n",
        "from sklearn.metrics import mean_absolute_error\n",
        "from sklearn.metrics import mean_absolute_percentage_error\n",
        "from sklearn.model_selection import cross_validate\n",
        "from sklearn.model_selection import cross_val_score\n",
        "from sklearn.model_selection import train_test_split\n",
        "from sklearn.model_selection import ShuffleSplit\n",
        "from sklearn.model_selection import validation_curve\n",
        "from sklearn.preprocessing import PolynomialFeatures\n",
        "from sklearn.preprocessing import StandardScaler\n",
        "from sklearn.pipeline import Pipeline"
      ],
      "metadata": {
        "id": "w6PR_YShHVYC"
      },
      "execution_count": 51,
      "outputs": []
    },
    {
      "cell_type": "code",
      "source": [
        "import seaborn as sb"
      ],
      "metadata": {
        "id": "h5iDRUczhlmB"
      },
      "execution_count": 31,
      "outputs": []
    },
    {
      "cell_type": "markdown",
      "source": [
        "In order to analyze the dataset we load it as a dataframe"
      ],
      "metadata": {
        "id": "kk30d55rFRfQ"
      }
    },
    {
      "cell_type": "code",
      "source": [
        "california_housing = fetch_california_housing(as_frame = True)"
      ],
      "metadata": {
        "id": "ipQKH4oZFQdP"
      },
      "execution_count": 3,
      "outputs": []
    },
    {
      "cell_type": "code",
      "source": [
        "california_housing.frame.describe()"
      ],
      "metadata": {
        "colab": {
          "base_uri": "https://localhost:8080/",
          "height": 320
        },
        "id": "x-qXbpalGdFL",
        "outputId": "dd77e4e6-2e11-433a-cd84-4ab374c7e347"
      },
      "execution_count": 4,
      "outputs": [
        {
          "output_type": "execute_result",
          "data": {
            "text/plain": [
              "             MedInc      HouseAge      AveRooms     AveBedrms    Population  \\\n",
              "count  20640.000000  20640.000000  20640.000000  20640.000000  20640.000000   \n",
              "mean       3.870671     28.639486      5.429000      1.096675   1425.476744   \n",
              "std        1.899822     12.585558      2.474173      0.473911   1132.462122   \n",
              "min        0.499900      1.000000      0.846154      0.333333      3.000000   \n",
              "25%        2.563400     18.000000      4.440716      1.006079    787.000000   \n",
              "50%        3.534800     29.000000      5.229129      1.048780   1166.000000   \n",
              "75%        4.743250     37.000000      6.052381      1.099526   1725.000000   \n",
              "max       15.000100     52.000000    141.909091     34.066667  35682.000000   \n",
              "\n",
              "           AveOccup      Latitude     Longitude   MedHouseVal  \n",
              "count  20640.000000  20640.000000  20640.000000  20640.000000  \n",
              "mean       3.070655     35.631861   -119.569704      2.068558  \n",
              "std       10.386050      2.135952      2.003532      1.153956  \n",
              "min        0.692308     32.540000   -124.350000      0.149990  \n",
              "25%        2.429741     33.930000   -121.800000      1.196000  \n",
              "50%        2.818116     34.260000   -118.490000      1.797000  \n",
              "75%        3.282261     37.710000   -118.010000      2.647250  \n",
              "max     1243.333333     41.950000   -114.310000      5.000010  "
            ],
            "text/html": [
              "\n",
              "  <div id=\"df-261abbb3-78dc-4deb-bed4-652fd2d8f778\" class=\"colab-df-container\">\n",
              "    <div>\n",
              "<style scoped>\n",
              "    .dataframe tbody tr th:only-of-type {\n",
              "        vertical-align: middle;\n",
              "    }\n",
              "\n",
              "    .dataframe tbody tr th {\n",
              "        vertical-align: top;\n",
              "    }\n",
              "\n",
              "    .dataframe thead th {\n",
              "        text-align: right;\n",
              "    }\n",
              "</style>\n",
              "<table border=\"1\" class=\"dataframe\">\n",
              "  <thead>\n",
              "    <tr style=\"text-align: right;\">\n",
              "      <th></th>\n",
              "      <th>MedInc</th>\n",
              "      <th>HouseAge</th>\n",
              "      <th>AveRooms</th>\n",
              "      <th>AveBedrms</th>\n",
              "      <th>Population</th>\n",
              "      <th>AveOccup</th>\n",
              "      <th>Latitude</th>\n",
              "      <th>Longitude</th>\n",
              "      <th>MedHouseVal</th>\n",
              "    </tr>\n",
              "  </thead>\n",
              "  <tbody>\n",
              "    <tr>\n",
              "      <th>count</th>\n",
              "      <td>20640.000000</td>\n",
              "      <td>20640.000000</td>\n",
              "      <td>20640.000000</td>\n",
              "      <td>20640.000000</td>\n",
              "      <td>20640.000000</td>\n",
              "      <td>20640.000000</td>\n",
              "      <td>20640.000000</td>\n",
              "      <td>20640.000000</td>\n",
              "      <td>20640.000000</td>\n",
              "    </tr>\n",
              "    <tr>\n",
              "      <th>mean</th>\n",
              "      <td>3.870671</td>\n",
              "      <td>28.639486</td>\n",
              "      <td>5.429000</td>\n",
              "      <td>1.096675</td>\n",
              "      <td>1425.476744</td>\n",
              "      <td>3.070655</td>\n",
              "      <td>35.631861</td>\n",
              "      <td>-119.569704</td>\n",
              "      <td>2.068558</td>\n",
              "    </tr>\n",
              "    <tr>\n",
              "      <th>std</th>\n",
              "      <td>1.899822</td>\n",
              "      <td>12.585558</td>\n",
              "      <td>2.474173</td>\n",
              "      <td>0.473911</td>\n",
              "      <td>1132.462122</td>\n",
              "      <td>10.386050</td>\n",
              "      <td>2.135952</td>\n",
              "      <td>2.003532</td>\n",
              "      <td>1.153956</td>\n",
              "    </tr>\n",
              "    <tr>\n",
              "      <th>min</th>\n",
              "      <td>0.499900</td>\n",
              "      <td>1.000000</td>\n",
              "      <td>0.846154</td>\n",
              "      <td>0.333333</td>\n",
              "      <td>3.000000</td>\n",
              "      <td>0.692308</td>\n",
              "      <td>32.540000</td>\n",
              "      <td>-124.350000</td>\n",
              "      <td>0.149990</td>\n",
              "    </tr>\n",
              "    <tr>\n",
              "      <th>25%</th>\n",
              "      <td>2.563400</td>\n",
              "      <td>18.000000</td>\n",
              "      <td>4.440716</td>\n",
              "      <td>1.006079</td>\n",
              "      <td>787.000000</td>\n",
              "      <td>2.429741</td>\n",
              "      <td>33.930000</td>\n",
              "      <td>-121.800000</td>\n",
              "      <td>1.196000</td>\n",
              "    </tr>\n",
              "    <tr>\n",
              "      <th>50%</th>\n",
              "      <td>3.534800</td>\n",
              "      <td>29.000000</td>\n",
              "      <td>5.229129</td>\n",
              "      <td>1.048780</td>\n",
              "      <td>1166.000000</td>\n",
              "      <td>2.818116</td>\n",
              "      <td>34.260000</td>\n",
              "      <td>-118.490000</td>\n",
              "      <td>1.797000</td>\n",
              "    </tr>\n",
              "    <tr>\n",
              "      <th>75%</th>\n",
              "      <td>4.743250</td>\n",
              "      <td>37.000000</td>\n",
              "      <td>6.052381</td>\n",
              "      <td>1.099526</td>\n",
              "      <td>1725.000000</td>\n",
              "      <td>3.282261</td>\n",
              "      <td>37.710000</td>\n",
              "      <td>-118.010000</td>\n",
              "      <td>2.647250</td>\n",
              "    </tr>\n",
              "    <tr>\n",
              "      <th>max</th>\n",
              "      <td>15.000100</td>\n",
              "      <td>52.000000</td>\n",
              "      <td>141.909091</td>\n",
              "      <td>34.066667</td>\n",
              "      <td>35682.000000</td>\n",
              "      <td>1243.333333</td>\n",
              "      <td>41.950000</td>\n",
              "      <td>-114.310000</td>\n",
              "      <td>5.000010</td>\n",
              "    </tr>\n",
              "  </tbody>\n",
              "</table>\n",
              "</div>\n",
              "    <div class=\"colab-df-buttons\">\n",
              "\n",
              "  <div class=\"colab-df-container\">\n",
              "    <button class=\"colab-df-convert\" onclick=\"convertToInteractive('df-261abbb3-78dc-4deb-bed4-652fd2d8f778')\"\n",
              "            title=\"Convert this dataframe to an interactive table.\"\n",
              "            style=\"display:none;\">\n",
              "\n",
              "  <svg xmlns=\"http://www.w3.org/2000/svg\" height=\"24px\" viewBox=\"0 -960 960 960\">\n",
              "    <path d=\"M120-120v-720h720v720H120Zm60-500h600v-160H180v160Zm220 220h160v-160H400v160Zm0 220h160v-160H400v160ZM180-400h160v-160H180v160Zm440 0h160v-160H620v160ZM180-180h160v-160H180v160Zm440 0h160v-160H620v160Z\"/>\n",
              "  </svg>\n",
              "    </button>\n",
              "\n",
              "  <style>\n",
              "    .colab-df-container {\n",
              "      display:flex;\n",
              "      gap: 12px;\n",
              "    }\n",
              "\n",
              "    .colab-df-convert {\n",
              "      background-color: #E8F0FE;\n",
              "      border: none;\n",
              "      border-radius: 50%;\n",
              "      cursor: pointer;\n",
              "      display: none;\n",
              "      fill: #1967D2;\n",
              "      height: 32px;\n",
              "      padding: 0 0 0 0;\n",
              "      width: 32px;\n",
              "    }\n",
              "\n",
              "    .colab-df-convert:hover {\n",
              "      background-color: #E2EBFA;\n",
              "      box-shadow: 0px 1px 2px rgba(60, 64, 67, 0.3), 0px 1px 3px 1px rgba(60, 64, 67, 0.15);\n",
              "      fill: #174EA6;\n",
              "    }\n",
              "\n",
              "    .colab-df-buttons div {\n",
              "      margin-bottom: 4px;\n",
              "    }\n",
              "\n",
              "    [theme=dark] .colab-df-convert {\n",
              "      background-color: #3B4455;\n",
              "      fill: #D2E3FC;\n",
              "    }\n",
              "\n",
              "    [theme=dark] .colab-df-convert:hover {\n",
              "      background-color: #434B5C;\n",
              "      box-shadow: 0px 1px 3px 1px rgba(0, 0, 0, 0.15);\n",
              "      filter: drop-shadow(0px 1px 2px rgba(0, 0, 0, 0.3));\n",
              "      fill: #FFFFFF;\n",
              "    }\n",
              "  </style>\n",
              "\n",
              "    <script>\n",
              "      const buttonEl =\n",
              "        document.querySelector('#df-261abbb3-78dc-4deb-bed4-652fd2d8f778 button.colab-df-convert');\n",
              "      buttonEl.style.display =\n",
              "        google.colab.kernel.accessAllowed ? 'block' : 'none';\n",
              "\n",
              "      async function convertToInteractive(key) {\n",
              "        const element = document.querySelector('#df-261abbb3-78dc-4deb-bed4-652fd2d8f778');\n",
              "        const dataTable =\n",
              "          await google.colab.kernel.invokeFunction('convertToInteractive',\n",
              "                                                    [key], {});\n",
              "        if (!dataTable) return;\n",
              "\n",
              "        const docLinkHtml = 'Like what you see? Visit the ' +\n",
              "          '<a target=\"_blank\" href=https://colab.research.google.com/notebooks/data_table.ipynb>data table notebook</a>'\n",
              "          + ' to learn more about interactive tables.';\n",
              "        element.innerHTML = '';\n",
              "        dataTable['output_type'] = 'display_data';\n",
              "        await google.colab.output.renderOutput(dataTable, element);\n",
              "        const docLink = document.createElement('div');\n",
              "        docLink.innerHTML = docLinkHtml;\n",
              "        element.appendChild(docLink);\n",
              "      }\n",
              "    </script>\n",
              "  </div>\n",
              "\n",
              "\n",
              "<div id=\"df-beb24ab2-82c5-4103-86ce-b96a3a1ec0c0\">\n",
              "  <button class=\"colab-df-quickchart\" onclick=\"quickchart('df-beb24ab2-82c5-4103-86ce-b96a3a1ec0c0')\"\n",
              "            title=\"Suggest charts.\"\n",
              "            style=\"display:none;\">\n",
              "\n",
              "<svg xmlns=\"http://www.w3.org/2000/svg\" height=\"24px\"viewBox=\"0 0 24 24\"\n",
              "     width=\"24px\">\n",
              "    <g>\n",
              "        <path d=\"M19 3H5c-1.1 0-2 .9-2 2v14c0 1.1.9 2 2 2h14c1.1 0 2-.9 2-2V5c0-1.1-.9-2-2-2zM9 17H7v-7h2v7zm4 0h-2V7h2v10zm4 0h-2v-4h2v4z\"/>\n",
              "    </g>\n",
              "</svg>\n",
              "  </button>\n",
              "\n",
              "<style>\n",
              "  .colab-df-quickchart {\n",
              "      --bg-color: #E8F0FE;\n",
              "      --fill-color: #1967D2;\n",
              "      --hover-bg-color: #E2EBFA;\n",
              "      --hover-fill-color: #174EA6;\n",
              "      --disabled-fill-color: #AAA;\n",
              "      --disabled-bg-color: #DDD;\n",
              "  }\n",
              "\n",
              "  [theme=dark] .colab-df-quickchart {\n",
              "      --bg-color: #3B4455;\n",
              "      --fill-color: #D2E3FC;\n",
              "      --hover-bg-color: #434B5C;\n",
              "      --hover-fill-color: #FFFFFF;\n",
              "      --disabled-bg-color: #3B4455;\n",
              "      --disabled-fill-color: #666;\n",
              "  }\n",
              "\n",
              "  .colab-df-quickchart {\n",
              "    background-color: var(--bg-color);\n",
              "    border: none;\n",
              "    border-radius: 50%;\n",
              "    cursor: pointer;\n",
              "    display: none;\n",
              "    fill: var(--fill-color);\n",
              "    height: 32px;\n",
              "    padding: 0;\n",
              "    width: 32px;\n",
              "  }\n",
              "\n",
              "  .colab-df-quickchart:hover {\n",
              "    background-color: var(--hover-bg-color);\n",
              "    box-shadow: 0 1px 2px rgba(60, 64, 67, 0.3), 0 1px 3px 1px rgba(60, 64, 67, 0.15);\n",
              "    fill: var(--button-hover-fill-color);\n",
              "  }\n",
              "\n",
              "  .colab-df-quickchart-complete:disabled,\n",
              "  .colab-df-quickchart-complete:disabled:hover {\n",
              "    background-color: var(--disabled-bg-color);\n",
              "    fill: var(--disabled-fill-color);\n",
              "    box-shadow: none;\n",
              "  }\n",
              "\n",
              "  .colab-df-spinner {\n",
              "    border: 2px solid var(--fill-color);\n",
              "    border-color: transparent;\n",
              "    border-bottom-color: var(--fill-color);\n",
              "    animation:\n",
              "      spin 1s steps(1) infinite;\n",
              "  }\n",
              "\n",
              "  @keyframes spin {\n",
              "    0% {\n",
              "      border-color: transparent;\n",
              "      border-bottom-color: var(--fill-color);\n",
              "      border-left-color: var(--fill-color);\n",
              "    }\n",
              "    20% {\n",
              "      border-color: transparent;\n",
              "      border-left-color: var(--fill-color);\n",
              "      border-top-color: var(--fill-color);\n",
              "    }\n",
              "    30% {\n",
              "      border-color: transparent;\n",
              "      border-left-color: var(--fill-color);\n",
              "      border-top-color: var(--fill-color);\n",
              "      border-right-color: var(--fill-color);\n",
              "    }\n",
              "    40% {\n",
              "      border-color: transparent;\n",
              "      border-right-color: var(--fill-color);\n",
              "      border-top-color: var(--fill-color);\n",
              "    }\n",
              "    60% {\n",
              "      border-color: transparent;\n",
              "      border-right-color: var(--fill-color);\n",
              "    }\n",
              "    80% {\n",
              "      border-color: transparent;\n",
              "      border-right-color: var(--fill-color);\n",
              "      border-bottom-color: var(--fill-color);\n",
              "    }\n",
              "    90% {\n",
              "      border-color: transparent;\n",
              "      border-bottom-color: var(--fill-color);\n",
              "    }\n",
              "  }\n",
              "</style>\n",
              "\n",
              "  <script>\n",
              "    async function quickchart(key) {\n",
              "      const quickchartButtonEl =\n",
              "        document.querySelector('#' + key + ' button');\n",
              "      quickchartButtonEl.disabled = true;  // To prevent multiple clicks.\n",
              "      quickchartButtonEl.classList.add('colab-df-spinner');\n",
              "      try {\n",
              "        const charts = await google.colab.kernel.invokeFunction(\n",
              "            'suggestCharts', [key], {});\n",
              "      } catch (error) {\n",
              "        console.error('Error during call to suggestCharts:', error);\n",
              "      }\n",
              "      quickchartButtonEl.classList.remove('colab-df-spinner');\n",
              "      quickchartButtonEl.classList.add('colab-df-quickchart-complete');\n",
              "    }\n",
              "    (() => {\n",
              "      let quickchartButtonEl =\n",
              "        document.querySelector('#df-beb24ab2-82c5-4103-86ce-b96a3a1ec0c0 button');\n",
              "      quickchartButtonEl.style.display =\n",
              "        google.colab.kernel.accessAllowed ? 'block' : 'none';\n",
              "    })();\n",
              "  </script>\n",
              "</div>\n",
              "    </div>\n",
              "  </div>\n"
            ]
          },
          "metadata": {},
          "execution_count": 4
        }
      ]
    },
    {
      "cell_type": "markdown",
      "source": [
        "Using ShuffleSplit as cv with 10 splits and 20% examples set aside as examples"
      ],
      "metadata": {
        "id": "yx0bGQYdN1jc"
      }
    },
    {
      "cell_type": "code",
      "source": [
        "cv = ShuffleSplit(n_splits = 10, test_size = .2)"
      ],
      "metadata": {
        "id": "wr41Bj71GkS3"
      },
      "execution_count": 5,
      "outputs": []
    },
    {
      "cell_type": "markdown",
      "source": [
        "**Data Spliting**"
      ],
      "metadata": {
        "id": "HeHwV_0XTkw7"
      }
    },
    {
      "cell_type": "markdown",
      "source": [
        "We load the data and split it into 3 parts train, validation and test. Train + validation will be used for cross validation and test will be used for evaluvating trained models"
      ],
      "metadata": {
        "id": "d3Cn_uJgk7_L"
      }
    },
    {
      "cell_type": "code",
      "source": [
        "features, lables = fetch_california_housing(as_frame = True, return_X_y = True)\n",
        "#train-test split\n",
        "com_train_features, test_features, com_train_labels, test_labels = train_test_split(features, lables)\n",
        "# train --> train + validation split\n",
        "train_features, val_features, train_labels, val_labels = train_test_split(com_train_features,com_train_labels)"
      ],
      "metadata": {
        "id": "v3VhsR5lOq_e"
      },
      "execution_count": 55,
      "outputs": []
    },
    {
      "cell_type": "code",
      "source": [
        "sb.heatmap(features.corr())"
      ],
      "metadata": {
        "colab": {
          "base_uri": "https://localhost:8080/",
          "height": 517
        },
        "id": "H6OQPfStmmWk",
        "outputId": "41766a16-dde8-4130-f36d-3bb90ccbc9ff"
      },
      "execution_count": 32,
      "outputs": [
        {
          "output_type": "execute_result",
          "data": {
            "text/plain": [
              "<Axes: >"
            ]
          },
          "metadata": {},
          "execution_count": 32
        },
        {
          "output_type": "display_data",
          "data": {
            "text/plain": [
              "<Figure size 640x480 with 2 Axes>"
            ],
            "image/png": "[encoded data removed]"
          },
          "metadata": {}
        }
      ]
    },
    {
      "cell_type": "markdown",
      "source": [
        "As we can see there are no significant correlations between the features"
      ],
      "metadata": {
        "id": "j_64Ym_7m5Ro"
      }
    },
    {
      "cell_type": "markdown",
      "source": [
        "#Linear Regression with normal equation#"
      ],
      "metadata": {
        "id": "lqQWZfTPluDm"
      }
    },
    {
      "cell_type": "markdown",
      "source": [
        "Pipline Setup\n",
        "\n",
        "\n",
        "*   Feature scaling\n",
        "*   Linear regression on the transformed feature matrix\n",
        "\n",
        "We will use cross_validate for ShuffleSplit Cross validation and neg_mean_absolute_error as a scoring metric\n",
        "\n"
      ],
      "metadata": {
        "id": "OSq6iAqPm_Ho"
      }
    },
    {
      "cell_type": "code",
      "source": [
        "lin_reg_pipeline = Pipeline([(\"feature_scaling\", StandardScaler()),\n",
        "                            (\"lin_reg\", LinearRegression())])\n",
        "lin_reg_cv_results = cross_validate(lin_reg_pipeline,\n",
        "                                    com_train_features,\n",
        "                                    com_train_labels,\n",
        "                                    cv=cv,\n",
        "                                    scoring = \"neg_mean_absolute_error\",\n",
        "                                    return_train_score = True,\n",
        "                                    return_estimator = True)\n",
        "lin_reg_train_error = -1*lin_reg_cv_results['train_score']\n",
        "lin_reg_test_error = -1*lin_reg_cv_results['test_score']\n",
        "print(\"mean absolute error of linear regression on train set\", lin_reg_train_error.mean(),\"+/-\",lin_reg_train_error.std())\n",
        "print(\"mean absolute error of linear regression on test set\", lin_reg_test_error.mean(),\"+/-\",lin_reg_test_error.std())"
      ],
      "metadata": {
        "colab": {
          "base_uri": "https://localhost:8080/"
        },
        "id": "oUb-ZZmRlsPX",
        "outputId": "8139cb92-90e3-4252-8a76-560008fa1288"
      },
      "execution_count": 7,
      "outputs": [
        {
          "output_type": "stream",
          "name": "stdout",
          "text": [
            "mean absolute error of linear regression on train set 0.5266005999880647 +/- 0.002205078676935576\n",
            "mean absolute error of linear regression on test set 0.527301066809015 +/- 0.007305350784743464\n"
          ]
        }
      ]
    },
    {
      "cell_type": "markdown",
      "source": [
        "Since errors are high this points to under fitting therfore we must add more features through polynomial regression"
      ],
      "metadata": {
        "id": "_n7dSNXmvJrJ"
      }
    },
    {
      "cell_type": "markdown",
      "source": [
        "#Linear Regression with SGD#\n",
        "Pipeline Stages\n",
        "\n",
        "\n",
        "*   Feature scaling\n",
        "*   SGD (Stochastic gradient descent) on the transformed dataset\n",
        "\n"
      ],
      "metadata": {
        "id": "x6fVURthvX16"
      }
    },
    {
      "cell_type": "code",
      "source": [
        "sgd_reg_pipeline = Pipeline([(\"feature_scaling\", StandardScaler()),\n",
        "                             (\"sgd_reg\", SGDRegressor(\n",
        "                                max_iter=int(np.ceil(\n",
        "                                    1e6/com_train_features.shape[0])),\n",
        "                                early_stopping=True,\n",
        "                                eta0=1e-4,\n",
        "                                learning_rate='constant',\n",
        "                                tol=1e-5,\n",
        "                                validation_fraction=0.1,\n",
        "                                n_iter_no_change=5,\n",
        "                                average=10))])\n",
        "\n",
        "sgd_reg_cv_results = cross_validate(sgd_reg_pipeline,\n",
        "                                    com_train_features,\n",
        "                                    com_train_labels,\n",
        "                                    cv=cv,\n",
        "                                    scoring = 'neg_mean_absolute_error',\n",
        "                                    return_train_score = True,\n",
        "                                    return_estimator = True)\n",
        "sgd_train_error = -1*sgd_reg_cv_results['train_score']\n",
        "sgd_test_error = -1*sgd_reg_cv_results['test_score']\n",
        "\n",
        "print(\"mean absolute error of SGD regression on train set\" ,sgd_train_error.mean(),\"+/-\",sgd_train_error.std())\n",
        "print(\"mean absolute error of SGD regression on test set\" ,sgd_test_error.mean(),\"+/-\",sgd_test_error.std())"
      ],
      "metadata": {
        "colab": {
          "base_uri": "https://localhost:8080/"
        },
        "id": "HUkMPGDMt5DG",
        "outputId": "fef7acf4-b470-43de-9bc5-9173535a5c1e"
      },
      "execution_count": 20,
      "outputs": [
        {
          "output_type": "stream",
          "name": "stdout",
          "text": [
            "mean absolute error of SGD regression on train set 0.5248907276879372 +/- 0.0018905482073210851\n",
            "mean absolute error of SGD regression on test set 0.5246697477591804 +/- 0.005468920440855705\n"
          ]
        }
      ]
    },
    {
      "cell_type": "markdown",
      "source": [
        "#Polynomial regression#\n",
        "\n",
        "Training the model on degree 2 using 'PolynomialFeatures' transforms the features to the user specified degrees"
      ],
      "metadata": {
        "id": "66emCTPRL5O1"
      }
    },
    {
      "cell_type": "code",
      "source": [
        "poly_reg_pipeline = Pipeline([(\"poly\",PolynomialFeatures(degree=2)),\n",
        "                              ('feature_scaling', StandardScaler()),\n",
        "                              ('lin_reg', LinearRegression())])\n",
        "poly_reg_cv_results = cross_validate(poly_reg_pipeline,\n",
        "                                    com_train_features,\n",
        "                                    com_train_labels,\n",
        "                                    cv=cv,\n",
        "                                    scoring = 'neg_mean_absolute_error',\n",
        "                                    return_train_score = True,\n",
        "                                    return_estimator = True)\n",
        "\n",
        "poly_reg_train_error = -1*poly_reg_cv_results['train_score']\n",
        "poly_reg_test_error = -1*poly_reg_cv_results['test_score']\n",
        "print(\"mean absolute error of poly regression on train set\" ,poly_reg_train_error.mean(),\"+/-\",poly_reg_test_error.std())\n",
        "print(\"mean absolute error of poly regression on test set\" ,poly_reg_train_error.mean(),\"+/-\",poly_reg_test_error.std())"
      ],
      "metadata": {
        "colab": {
          "base_uri": "https://localhost:8080/"
        },
        "id": "aYxa_Ew68rFo",
        "outputId": "c127090b-6189-46c4-f433-804f359358c5"
      },
      "execution_count": 26,
      "outputs": [
        {
          "output_type": "stream",
          "name": "stdout",
          "text": [
            "mean absolute error of poly regression on train set 0.4572877107401103 +/- 0.010529058063395842\n",
            "mean absolute error of poly regression on test set 0.4572877107401103 +/- 0.010529058063395842\n"
          ]
        }
      ]
    },
    {
      "cell_type": "markdown",
      "source": [
        "We can see that error for degree 2 regression is lower than linear.\n",
        "\n",
        "Instead of Using all polynomial feature, we use only interaction feature terms in polynomial model"
      ],
      "metadata": {
        "id": "n0li_T-XPlg4"
      }
    },
    {
      "cell_type": "code",
      "source": [
        "poly_reg_pipeline = Pipeline([('poly',PolynomialFeatures(degree =2, interaction_only=True)),\n",
        "                              ('feature_scaling', StandardScaler()),\n",
        "                              ('lin_reg', LinearRegression())])\n",
        "poly_reg_cv_results = cross_validate(poly_reg_pipeline,\n",
        "                                     com_train_features,\n",
        "                                    com_train_labels,\n",
        "                                    cv=cv,\n",
        "                                    scoring = 'neg_mean_absolute_error',\n",
        "                                    return_train_score = True,\n",
        "                                    return_estimator = True)\n",
        "poly_reg_train_error = -1*poly_reg_cv_results['train_score']\n",
        "poly_reg_test_error = -1*poly_reg_cv_results['test_score']\n",
        "print(\"mean absolute error of poly regression on train set\" ,poly_reg_train_error.mean(),\"+/-\",poly_reg_test_error.std())\n",
        "print(\"mean absolute error of poly regression on test set\" ,poly_reg_train_error.mean(),\"+/-\",poly_reg_test_error.std())"
      ],
      "metadata": {
        "colab": {
          "base_uri": "https://localhost:8080/"
        },
        "id": "dIEmKs3RO6QY",
        "outputId": "ee028142-939f-405a-9d50-5648b76f19d7"
      },
      "execution_count": 28,
      "outputs": [
        {
          "output_type": "stream",
          "name": "stdout",
          "text": [
            "mean absolute error of poly regression on train set 0.4729903778201141 +/- 0.0364161712076741\n",
            "mean absolute error of poly regression on test set 0.4729903778201141 +/- 0.0364161712076741\n"
          ]
        }
      ]
    },
    {
      "cell_type": "markdown",
      "source": [
        "Lets find out which degree of polynomial is best suited for the regression problem at hand"
      ],
      "metadata": {
        "id": "NvUGZXnRUO2R"
      }
    },
    {
      "cell_type": "code",
      "source": [
        "deg = [1,2,3,4,5]\n",
        "train_scores, test_scores = validation_curve(poly_reg_pipeline,\n",
        "                                             com_train_features,\n",
        "                                            com_train_labels,\n",
        "                                             param_name=\"poly__degree\",\n",
        "                                             param_range = deg,\n",
        "                                             cv=cv,\n",
        "                                             scoring=\"neg_mean_absolute_error\",\n",
        "                                             n_jobs =-1 )\n",
        "train_errors, test_errors = -1*train_scores, -1*test_scores\n",
        "plt.plot(deg,train_errors.mean(axis=1),'b-x', label = 'Training error')\n",
        "plt.plot(deg,test_errors.mean(axis=1),'r-x', label = 'Test error')"
      ],
      "metadata": {
        "colab": {
          "base_uri": "https://localhost:8080/",
          "height": 447
        },
        "id": "W8w-j9JJUZAQ",
        "outputId": "a9a34b1a-454c-4fd3-94d5-837d3e7234ac"
      },
      "execution_count": 30,
      "outputs": [
        {
          "output_type": "execute_result",
          "data": {
            "text/plain": [
              "[<matplotlib.lines.Line2D at 0x7c4fde4c99f0>]"
            ]
          },
          "metadata": {},
          "execution_count": 30
        },
        {
          "output_type": "display_data",
          "data": {
            "text/plain": [
              "<Figure size 640x480 with 1 Axes>"
            ],
            "image/png": "[encoded data removed]"
          },
          "metadata": {}
        }
      ]
    },
    {
      "cell_type": "markdown",
      "source": [
        "Here we can see that polynomial beyond degree 2 leads to overfitting and therefore degree 2 is ideal for non regularized regression"
      ],
      "metadata": {
        "id": "_DOPJHwhW91-"
      }
    },
    {
      "cell_type": "markdown",
      "source": [
        "#Ridge regression#\n"
      ],
      "metadata": {
        "id": "LZNcA33bXPsj"
      }
    },
    {
      "cell_type": "code",
      "source": [
        "ridge_reg_pipeline = Pipeline([('poly',PolynomialFeatures(degree =2, interaction_only=True)),\n",
        "                              ('feature_scaling', StandardScaler()),\n",
        "                              ('ridge', Ridge(alpha=.5))])\n",
        "ridge_reg_cv = cross_validate(ridge_reg_pipeline,\n",
        "                              com_train_features,\n",
        "                              com_train_labels,\n",
        "                              cv=cv,\n",
        "                              scoring = 'neg_mean_absolute_error',\n",
        "                              return_train_score = True,\n",
        "                              return_estimator = True)\n",
        "ridge_reg_train_error = -1*ridge_reg_cv['train_score']\n",
        "ridge_reg_test_error = -1*ridge_reg_cv['test_score']\n",
        "print(\"mean absolute error of ridge regression on train set\" ,ridge_reg_train_error.mean(),\"+/-\",ridge_reg_test_error.std())\n",
        "print(\"mean absolute error of ridge regression on test set\" ,ridge_reg_train_error.mean(),\"+/-\",ridge_reg_test_error.std())"
      ],
      "metadata": {
        "colab": {
          "base_uri": "https://localhost:8080/"
        },
        "id": "dxIirqMwV1F2",
        "outputId": "4d00bc0f-8e50-483a-9dfc-2df43eac7bcc"
      },
      "execution_count": 33,
      "outputs": [
        {
          "output_type": "stream",
          "name": "stdout",
          "text": [
            "mean absolute error of ridge regression on train set 0.4837596855580669 +/- 0.02007747540345789\n",
            "mean absolute error of ridge regression on test set 0.4837596855580669 +/- 0.02007747540345789\n"
          ]
        }
      ]
    },
    {
      "cell_type": "markdown",
      "source": [
        "#Hyper Parameter Tuning for ridge regularization"
      ],
      "metadata": {
        "id": "nGUaIycooEug"
      }
    },
    {
      "cell_type": "code",
      "source": [
        "alpha_list = np.logspace(-4,0, num = 20)\n",
        "ridge_reg_pipeline = Pipeline([('poly', PolynomialFeatures(degree = 2)),\n",
        "                               ('feature_scaling', StandardScaler()),\n",
        "                               ('ridge_cv', RidgeCV(alphas = alpha_list,\n",
        "                                                    cv = cv,\n",
        "                                                    scoring = 'neg_mean_absolute_error'))])\n",
        "ridge_reg_cv_results = ridge_reg_pipeline.fit(com_train_features, com_train_labels)\n",
        "print(\"score with best alpha is \",ridge_reg_cv_results[-1].best_score_)\n"
      ],
      "metadata": {
        "colab": {
          "base_uri": "https://localhost:8080/"
        },
        "id": "iJgpaP1-n4D9",
        "outputId": "0af1aad9-4d68-40c7-9bac-b4109e591254"
      },
      "execution_count": 40,
      "outputs": [
        {
          "output_type": "stream",
          "name": "stdout",
          "text": [
            "score with best alpha is  -0.47570717533616574\n"
          ]
        }
      ]
    },
    {
      "cell_type": "code",
      "source": [
        "print(\"best alpha\", ridge_reg_cv_results[-1].alpha_)"
      ],
      "metadata": {
        "colab": {
          "base_uri": "https://localhost:8080/"
        },
        "id": "zS1N8o0Sv3RS",
        "outputId": "c2db5e79-74a7-41db-ec5d-ceede3bde517"
      },
      "execution_count": 41,
      "outputs": [
        {
          "output_type": "stream",
          "name": "stdout",
          "text": [
            "best alpha 0.007847599703514606\n"
          ]
        }
      ]
    },
    {
      "cell_type": "markdown",
      "source": [
        "#Performence on test set#"
      ],
      "metadata": {
        "id": "-gsOPu9i3Gzd"
      }
    },
    {
      "cell_type": "markdown",
      "source": [
        "#Baseline#"
      ],
      "metadata": {
        "id": "wxVX2yUm3NAt"
      }
    },
    {
      "cell_type": "code",
      "source": [
        "baseline_model = DummyRegressor(strategy = 'median')\n",
        "baseline_model.fit(train_features, train_labels)\n",
        "mean_absolute_percentage_error(test_labels,\n",
        "                               baseline_model.predict(test_features))"
      ],
      "metadata": {
        "colab": {
          "base_uri": "https://localhost:8080/"
        },
        "id": "GNQNrnyj3Ly5",
        "outputId": "90285749-65ba-49a2-87ba-6cd9a0ae0dba"
      },
      "execution_count": 57,
      "outputs": [
        {
          "output_type": "execute_result",
          "data": {
            "text/plain": [
              "0.5110167863468267"
            ]
          },
          "metadata": {},
          "execution_count": 57
        }
      ]
    },
    {
      "cell_type": "markdown",
      "source": [
        "#Linear regression#"
      ],
      "metadata": {
        "id": "GlzxQ4Tr4QX-"
      }
    },
    {
      "cell_type": "code",
      "source": [
        "mean_absolute_percentage_error(test_labels, lin_reg_cv_results['estimator'][0].predict(test_features))"
      ],
      "metadata": {
        "colab": {
          "base_uri": "https://localhost:8080/"
        },
        "id": "6MYTp7sm35Ek",
        "outputId": "487cd66c-e51f-4eb5-beb9-ec4dcea6cf5e"
      },
      "execution_count": 58,
      "outputs": [
        {
          "output_type": "execute_result",
          "data": {
            "text/plain": [
              "0.30552829015110394"
            ]
          },
          "metadata": {},
          "execution_count": 58
        }
      ]
    },
    {
      "cell_type": "markdown",
      "source": [
        "#Polynomial Regression degree 2 SGD#"
      ],
      "metadata": {
        "id": "lKXFd0Vh4f0j"
      }
    },
    {
      "cell_type": "code",
      "source": [
        "mean_absolute_percentage_error(test_labels, poly_reg_cv_results['estimator'][0].predict(test_features))"
      ],
      "metadata": {
        "colab": {
          "base_uri": "https://localhost:8080/"
        },
        "id": "OvLo4sQC4eKO",
        "outputId": "7cba6cda-3230-4969-96cd-c236777c6be3"
      },
      "execution_count": 60,
      "outputs": [
        {
          "output_type": "execute_result",
          "data": {
            "text/plain": [
              "0.2732280524351415"
            ]
          },
          "metadata": {},
          "execution_count": 60
        }
      ]
    },
    {
      "cell_type": "markdown",
      "source": [
        "#Ridge Regression #"
      ],
      "metadata": {
        "id": "kXij-ZEC42av"
      }
    },
    {
      "cell_type": "code",
      "source": [
        "mean_absolute_percentage_error(test_labels, ridge_reg_cv_results.predict(test_features))"
      ],
      "metadata": {
        "colab": {
          "base_uri": "https://localhost:8080/"
        },
        "id": "ePoSUpSy4sLh",
        "outputId": "4e45c7fa-3e83-41f9-aa83-49dde1552aa0"
      },
      "execution_count": 61,
      "outputs": [
        {
          "output_type": "execute_result",
          "data": {
            "text/plain": [
              "0.26112748405831493"
            ]
          },
          "metadata": {},
          "execution_count": 61
        }
      ]
    },
    {
      "cell_type": "markdown",
      "source": [
        "#Summary#"
      ],
      "metadata": {
        "id": "0wHEV5208Zwi"
      }
    },
    {
      "cell_type": "markdown",
      "source": [
        "Since Ridge Regression gives lowest mean absolute percentage error we will use that model."
      ],
      "metadata": {
        "id": "SRVOHquj8cRP"
      }
    },
    {
      "cell_type": "code",
      "source": [
        "import pickle\n",
        "pickle.dump(ridge_reg_cv_results,open('ridge.pkl','wb'))"
      ],
      "metadata": {
        "id": "TbT9HpNS5I7Y"
      },
      "execution_count": 74,
      "outputs": []
    },
    {
      "cell_type": "code",
      "source": [],
      "metadata": {
        "id": "4KQJMSQ384M-"
      },
      "execution_count": null,
      "outputs": []
    }
  ]
}